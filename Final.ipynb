{
 "cells": [
  {
   "cell_type": "code",
   "execution_count": 1,
   "metadata": {},
   "outputs": [],
   "source": [
    "import requests\n",
    "from bs4 import BeautifulSoup\n",
    "import sqlite3\n",
    "\n",
    "# Step 1: Scrape data\n",
    "url = \"https://scrapethissite.com/pages/simple/\"\n",
    "response = requests.get(url)\n",
    "soup = BeautifulSoup(response.content, 'html.parser')\n",
    "\n",
    "countries = []\n",
    "for country in soup.find_all(\"div\", class_=\"country\"):\n",
    "    name = country.find(\"h3\", class_=\"country-name\").text.strip()\n",
    "    population = country.find(\"span\", class_=\"country-population\").text.strip()\n",
    "    area = country.find(\"span\", class_=\"country-area\").text.strip()\n",
    "    countries.append((name, int(population.replace(',', '')), float(area.replace(',', ''))))\n",
    "\n",
    "# Step 2: Save data to SQLite\n",
    "conn = sqlite3.connect('countries.db')\n",
    "cursor = conn.cursor()\n",
    "\n",
    "cursor.execute('''\n",
    "    CREATE TABLE IF NOT EXISTS countries (\n",
    "        name TEXT,\n",
    "        population INTEGER,\n",
    "        area REAL\n",
    "    )\n",
    "''')\n",
    "\n",
    "cursor.executemany('INSERT INTO countries (name, population, area) VALUES (?, ?, ?)', countries)\n",
    "conn.commit()\n",
    "conn.close()\n"
   ]
  },
  {
   "cell_type": "code",
   "execution_count": 2,
   "metadata": {},
   "outputs": [
    {
     "name": "stdout",
     "output_type": "stream",
     "text": [
      "Mean Absolute Error: 742849.1499890978\n",
      "Mean Squared Error: 2379391410530.9595\n",
      "Predicted Area for population 1000000: 418169.37\n"
     ]
    },
    {
     "name": "stderr",
     "output_type": "stream",
     "text": [
      "c:\\Users\\user\\AppData\\Local\\Programs\\Python\\Python311\\Lib\\site-packages\\sklearn\\base.py:409: UserWarning: X does not have valid feature names, but LinearRegression was fitted with feature names\n",
      "  warnings.warn(\n"
     ]
    }
   ],
   "source": [
    "import pandas as pd\n",
    "from sklearn.model_selection import train_test_split\n",
    "from sklearn.linear_model import LinearRegression\n",
    "from sklearn.metrics import mean_absolute_error, mean_squared_error\n",
    "\n",
    "# Load data from SQLite\n",
    "conn = sqlite3.connect('countries.db')\n",
    "df = pd.read_sql_query('SELECT * FROM countries', conn)\n",
    "conn.close()\n",
    "\n",
    "# Step 1: Preprocessing\n",
    "X = df[['population']]  # Features (جمعیت)\n",
    "y = df['area']          # Target (مساحت)\n",
    "\n",
    "# Step 2: Split data\n",
    "X_train, X_test, y_train, y_test = train_test_split(X, y, test_size=0.2, random_state=42)\n",
    "\n",
    "# Step 3: Train the model\n",
    "model = LinearRegression()\n",
    "model.fit(X_train, y_train)\n",
    "\n",
    "# Step 4: Predict and evaluate\n",
    "y_pred = model.predict(X_test)\n",
    "print(\"Mean Absolute Error:\", mean_absolute_error(y_test, y_pred))\n",
    "print(\"Mean Squared Error:\", mean_squared_error(y_test, y_pred))\n",
    "\n",
    "# Example prediction\n",
    "population_input = 1000000  # جمعیت فرضی\n",
    "predicted_area = model.predict([[population_input]])\n",
    "print(f\"Predicted Area for population {population_input}: {predicted_area[0]:.2f}\")\n"
   ]
  }
 ],
 "metadata": {
  "kernelspec": {
   "display_name": "Python 3",
   "language": "python",
   "name": "python3"
  },
  "language_info": {
   "codemirror_mode": {
    "name": "ipython",
    "version": 3
   },
   "file_extension": ".py",
   "mimetype": "text/x-python",
   "name": "python",
   "nbconvert_exporter": "python",
   "pygments_lexer": "ipython3",
   "version": "3.11.3"
  }
 },
 "nbformat": 4,
 "nbformat_minor": 2
}
